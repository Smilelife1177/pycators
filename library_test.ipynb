{
 "cells": [
  {
   "cell_type": "code",
   "execution_count": null,
   "metadata": {
    "vscode": {
     "languageId": "plaintext"
    }
   },
   "outputs": [],
   "source": [
    "from tradingview_ta import TA_Handler, Interval, Exchange\n",
    "\n",
    "tesla = TA_Handler(\n",
    "    symbol=\"BTCUSDT\",\n",
    "    screener=\"crypto\",\n",
    "    exchange=\"binance\",\n",
    "    interval=Interval.INTERVAL_1_HOUR,\n",
    ")\n",
    "print(tesla.get_analysis().summary)"
   ]
  }
 ],
 "metadata": {
  "language_info": {
   "name": "python"
  }
 },
 "nbformat": 4,
 "nbformat_minor": 2
}
